{
 "cells": [
  {
   "cell_type": "markdown",
   "metadata": {},
   "source": [
    "# Agenda\n",
    "+ numbers\n",
    "+ strings\n",
    "+ lists\n",
    "+ dictionaries\n",
    "+ tuples\n",
    "+ sets\n",
    "+ iterators\n",
    "+ classes"
   ]
  },
  {
   "cell_type": "markdown",
   "metadata": {},
   "source": [
    "# Numbers"
   ]
  },
  {
   "cell_type": "code",
   "execution_count": 1,
   "metadata": {
    "ExecuteTime": {
     "end_time": "2020-09-17T14:43:52.743754Z",
     "start_time": "2020-09-17T14:43:52.739774Z"
    }
   },
   "outputs": [],
   "source": [
    "# integers\n",
    "igr = 5\n",
    "# floats\n",
    "flt = 2.547865"
   ]
  },
  {
   "cell_type": "code",
   "execution_count": 2,
   "metadata": {
    "ExecuteTime": {
     "end_time": "2020-09-17T14:45:10.735537Z",
     "start_time": "2020-09-17T14:45:10.731555Z"
    }
   },
   "outputs": [],
   "source": [
    "# not all numbers are born equal \n",
    "q_0 = 5\n",
    "q_1 = 5.00000000000"
   ]
  },
  {
   "cell_type": "markdown",
   "metadata": {},
   "source": [
    "# Strings"
   ]
  },
  {
   "cell_type": "code",
   "execution_count": 3,
   "metadata": {
    "ExecuteTime": {
     "end_time": "2020-09-17T14:47:02.893948Z",
     "start_time": "2020-09-17T14:47:02.889963Z"
    }
   },
   "outputs": [],
   "source": [
    "# sample string\n",
    "s = 'abc'"
   ]
  },
  {
   "cell_type": "code",
   "execution_count": 15,
   "metadata": {
    "ExecuteTime": {
     "end_time": "2020-09-17T14:55:08.965980Z",
     "start_time": "2020-09-17T14:55:08.961994Z"
    }
   },
   "outputs": [],
   "source": [
    "# quotes matter\n",
    "s_1 = '999'"
   ]
  },
  {
   "cell_type": "code",
   "execution_count": 16,
   "metadata": {
    "ExecuteTime": {
     "end_time": "2020-09-17T14:55:09.674611Z",
     "start_time": "2020-09-17T14:55:09.670625Z"
    }
   },
   "outputs": [],
   "source": [
    "# single and double quotes are okay\n",
    "s_2 = 'abc'\n",
    "s_3 = \"abc\""
   ]
  },
  {
   "cell_type": "code",
   "execution_count": 17,
   "metadata": {
    "ExecuteTime": {
     "end_time": "2020-09-17T14:55:10.195063Z",
     "start_time": "2020-09-17T14:55:10.191077Z"
    }
   },
   "outputs": [],
   "source": [
    "# mixing single and double quotes\n",
    "s_4 = 'abc\"'"
   ]
  },
  {
   "cell_type": "code",
   "execution_count": 11,
   "metadata": {
    "ExecuteTime": {
     "end_time": "2020-09-17T14:52:33.861871Z",
     "start_time": "2020-09-17T14:52:33.857975Z"
    }
   },
   "outputs": [],
   "source": [
    "# spaces matter\n",
    "s = 'xyz'"
   ]
  },
  {
   "cell_type": "code",
   "execution_count": 12,
   "metadata": {
    "ExecuteTime": {
     "end_time": "2020-09-17T14:52:34.955371Z",
     "start_time": "2020-09-17T14:52:34.950388Z"
    }
   },
   "outputs": [],
   "source": [
    "s?"
   ]
  },
  {
   "cell_type": "code",
   "execution_count": 13,
   "metadata": {
    "ExecuteTime": {
     "end_time": "2020-09-17T14:52:35.439332Z",
     "start_time": "2020-09-17T14:52:35.435346Z"
    }
   },
   "outputs": [],
   "source": [
    "s = ' xyz'"
   ]
  },
  {
   "cell_type": "code",
   "execution_count": 10,
   "metadata": {
    "ExecuteTime": {
     "end_time": "2020-09-17T14:52:01.727703Z",
     "start_time": "2020-09-17T14:52:01.722720Z"
    }
   },
   "outputs": [],
   "source": [
    "s?"
   ]
  },
  {
   "cell_type": "code",
   "execution_count": 18,
   "metadata": {
    "ExecuteTime": {
     "end_time": "2020-09-17T14:55:16.677603Z",
     "start_time": "2020-09-17T14:55:16.665648Z"
    }
   },
   "outputs": [
    {
     "data": {
      "text/plain": [
       "'999abc'"
      ]
     },
     "execution_count": 18,
     "metadata": {},
     "output_type": "execute_result"
    }
   ],
   "source": [
    "# is it possible to sum two/multiple strings?\n",
    "s_1 + s_2"
   ]
  },
  {
   "cell_type": "code",
   "execution_count": 19,
   "metadata": {
    "ExecuteTime": {
     "end_time": "2020-09-17T14:56:06.446971Z",
     "start_time": "2020-09-17T14:56:06.437953Z"
    }
   },
   "outputs": [
    {
     "ename": "TypeError",
     "evalue": "join() takes exactly one argument (2 given)",
     "output_type": "error",
     "traceback": [
      "\u001b[1;31m---------------------------------------------------------------------------\u001b[0m",
      "\u001b[1;31mTypeError\u001b[0m                                 Traceback (most recent call last)",
      "\u001b[1;32m<ipython-input-19-fdd854a9ab11>\u001b[0m in \u001b[0;36m<module>\u001b[1;34m\u001b[0m\n\u001b[0;32m      1\u001b[0m \u001b[1;31m# a more elegant alternative\u001b[0m\u001b[1;33m\u001b[0m\u001b[1;33m\u001b[0m\u001b[1;33m\u001b[0m\u001b[0m\n\u001b[1;32m----> 2\u001b[1;33m \u001b[1;34m''\u001b[0m\u001b[1;33m.\u001b[0m\u001b[0mjoin\u001b[0m\u001b[1;33m(\u001b[0m\u001b[0ms_1\u001b[0m\u001b[1;33m,\u001b[0m \u001b[0ms_2\u001b[0m\u001b[1;33m)\u001b[0m\u001b[1;33m\u001b[0m\u001b[1;33m\u001b[0m\u001b[0m\n\u001b[0m",
      "\u001b[1;31mTypeError\u001b[0m: join() takes exactly one argument (2 given)"
     ]
    }
   ],
   "source": [
    "# a more elegant alternative\n",
    "''.join(s_1, s_2)"
   ]
  },
  {
   "cell_type": "code",
   "execution_count": 22,
   "metadata": {
    "ExecuteTime": {
     "end_time": "2020-09-17T14:57:29.061158Z",
     "start_time": "2020-09-17T14:57:29.056175Z"
    }
   },
   "outputs": [
    {
     "data": {
      "text/plain": [
       "'999 ** &&& abc'"
      ]
     },
     "execution_count": 22,
     "metadata": {},
     "output_type": "execute_result"
    }
   ],
   "source": [
    "' ** &&& '.join([s_1, s_2])"
   ]
  },
  {
   "cell_type": "markdown",
   "metadata": {},
   "source": [
    "## Numbers and strings"
   ]
  },
  {
   "cell_type": "code",
   "execution_count": 24,
   "metadata": {
    "ExecuteTime": {
     "end_time": "2020-09-17T14:59:01.733454Z",
     "start_time": "2020-09-17T14:59:01.729465Z"
    }
   },
   "outputs": [],
   "source": [
    "# is it possbile to transform a string into an interger\n",
    "igr_1 = int(s_1)"
   ]
  },
  {
   "cell_type": "code",
   "execution_count": 25,
   "metadata": {
    "ExecuteTime": {
     "end_time": "2020-09-17T14:59:06.856877Z",
     "start_time": "2020-09-17T14:59:06.851893Z"
    }
   },
   "outputs": [],
   "source": [
    "igr_1?"
   ]
  },
  {
   "cell_type": "code",
   "execution_count": 26,
   "metadata": {
    "ExecuteTime": {
     "end_time": "2020-09-17T14:59:41.380906Z",
     "start_time": "2020-09-17T14:59:41.376920Z"
    }
   },
   "outputs": [],
   "source": [
    "# ... and back\n",
    "s_5 = str(igr_1)"
   ]
  },
  {
   "cell_type": "markdown",
   "metadata": {},
   "source": [
    "### Manipulating strings"
   ]
  },
  {
   "cell_type": "code",
   "execution_count": 27,
   "metadata": {
    "ExecuteTime": {
     "end_time": "2020-09-17T15:01:13.417482Z",
     "start_time": "2020-09-17T15:01:13.413473Z"
    }
   },
   "outputs": [
    {
     "data": {
      "text/plain": [
       "'a'"
      ]
     },
     "execution_count": 27,
     "metadata": {},
     "output_type": "execute_result"
    }
   ],
   "source": [
    "s_4[0]"
   ]
  },
  {
   "cell_type": "code",
   "execution_count": 28,
   "metadata": {
    "ExecuteTime": {
     "end_time": "2020-09-17T15:01:38.868426Z",
     "start_time": "2020-09-17T15:01:38.860444Z"
    }
   },
   "outputs": [
    {
     "data": {
      "text/plain": [
       "'ab'"
      ]
     },
     "execution_count": 28,
     "metadata": {},
     "output_type": "execute_result"
    }
   ],
   "source": [
    "s_4[0:2]"
   ]
  },
  {
   "cell_type": "code",
   "execution_count": 30,
   "metadata": {
    "ExecuteTime": {
     "end_time": "2020-09-17T15:02:47.179663Z",
     "start_time": "2020-09-17T15:02:47.174643Z"
    }
   },
   "outputs": [
    {
     "data": {
      "text/plain": [
       "'\"'"
      ]
     },
     "execution_count": 30,
     "metadata": {},
     "output_type": "execute_result"
    }
   ],
   "source": [
    "s_4[-1]"
   ]
  },
  {
   "cell_type": "code",
   "execution_count": 31,
   "metadata": {
    "ExecuteTime": {
     "end_time": "2020-09-17T15:03:37.216836Z",
     "start_time": "2020-09-17T15:03:37.210849Z"
    }
   },
   "outputs": [
    {
     "data": {
      "text/plain": [
       "'bc\"'"
      ]
     },
     "execution_count": 31,
     "metadata": {},
     "output_type": "execute_result"
    }
   ],
   "source": [
    "s_4[1:]"
   ]
  },
  {
   "cell_type": "markdown",
   "metadata": {},
   "source": [
    "## Formatting strings"
   ]
  },
  {
   "cell_type": "code",
   "execution_count": 32,
   "metadata": {
    "ExecuteTime": {
     "end_time": "2020-09-17T15:05:24.028579Z",
     "start_time": "2020-09-17T15:05:24.024593Z"
    }
   },
   "outputs": [],
   "source": [
    "nike_trainers = 159.99 # USD --> '$ 159.99'"
   ]
  },
  {
   "cell_type": "code",
   "execution_count": 34,
   "metadata": {
    "ExecuteTime": {
     "end_time": "2020-09-17T15:07:07.667332Z",
     "start_time": "2020-09-17T15:07:07.662337Z"
    }
   },
   "outputs": [
    {
     "name": "stdout",
     "output_type": "stream",
     "text": [
      "$ 159.99\n"
     ]
    }
   ],
   "source": [
    "print('$ {}'.format(nike_trainers))"
   ]
  },
  {
   "cell_type": "code",
   "execution_count": 36,
   "metadata": {
    "ExecuteTime": {
     "end_time": "2020-09-17T15:08:28.963681Z",
     "start_time": "2020-09-17T15:08:28.956704Z"
    }
   },
   "outputs": [
    {
     "ename": "SyntaxError",
     "evalue": "closing parenthesis ')' does not match opening parenthesis '[' (<ipython-input-36-f43cbd1c43b9>, line 1)",
     "output_type": "error",
     "traceback": [
      "\u001b[1;36m  File \u001b[1;32m\"<ipython-input-36-f43cbd1c43b9>\"\u001b[1;36m, line \u001b[1;32m1\u001b[0m\n\u001b[1;33m    print('$ {}.{}'.format(nike_trainers[0:3, nike_trainers[3:]))\u001b[0m\n\u001b[1;37m                                                               ^\u001b[0m\n\u001b[1;31mSyntaxError\u001b[0m\u001b[1;31m:\u001b[0m closing parenthesis ')' does not match opening parenthesis '['\n"
     ]
    }
   ],
   "source": [
    "print('$ {}.{}'.format(nike_trainers[0:3, nike_trainers[3:]))"
   ]
  },
  {
   "cell_type": "code",
   "execution_count": 38,
   "metadata": {
    "ExecuteTime": {
     "end_time": "2020-09-17T15:09:33.445124Z",
     "start_time": "2020-09-17T15:09:33.441138Z"
    }
   },
   "outputs": [],
   "source": [
    "years = [1999, 2000, 2001]\n",
    "labels = ['Year = 1999', 'Year = 2000', 'Year = 2001']"
   ]
  },
  {
   "cell_type": "code",
   "execution_count": null,
   "metadata": {},
   "outputs": [],
   "source": []
  }
 ],
 "metadata": {
  "kernelspec": {
   "display_name": "Python 3",
   "language": "python",
   "name": "python3"
  },
  "language_info": {
   "codemirror_mode": {
    "name": "ipython",
    "version": 3
   },
   "file_extension": ".py",
   "mimetype": "text/x-python",
   "name": "python",
   "nbconvert_exporter": "python",
   "pygments_lexer": "ipython3",
   "version": "3.8.3"
  },
  "latex_envs": {
   "LaTeX_envs_menu_present": true,
   "autoclose": false,
   "autocomplete": true,
   "bibliofile": "biblio.bib",
   "cite_by": "apalike",
   "current_citInitial": 1,
   "eqLabelWithNumbers": true,
   "eqNumInitial": 1,
   "hotkeys": {
    "equation": "Ctrl-E",
    "itemize": "Ctrl-I"
   },
   "labels_anchors": false,
   "latex_user_defs": false,
   "report_style_numbering": false,
   "user_envs_cfg": false
  },
  "toc": {
   "base_numbering": 1,
   "nav_menu": {},
   "number_sections": true,
   "sideBar": true,
   "skip_h1_title": false,
   "title_cell": "Table of Contents",
   "title_sidebar": "Contents",
   "toc_cell": false,
   "toc_position": {
    "height": "calc(100% - 180px)",
    "left": "10px",
    "top": "150px",
    "width": "165px"
   },
   "toc_section_display": true,
   "toc_window_display": true
  },
  "varInspector": {
   "cols": {
    "lenName": 16,
    "lenType": 16,
    "lenVar": 40
   },
   "kernels_config": {
    "python": {
     "delete_cmd_postfix": "",
     "delete_cmd_prefix": "del ",
     "library": "var_list.py",
     "varRefreshCmd": "print(var_dic_list())"
    },
    "r": {
     "delete_cmd_postfix": ") ",
     "delete_cmd_prefix": "rm(",
     "library": "var_list.r",
     "varRefreshCmd": "cat(var_dic_list()) "
    }
   },
   "oldHeight": 122.667,
   "position": {
    "height": "40px",
    "left": "548px",
    "right": "20px",
    "top": "120px",
    "width": "250px"
   },
   "types_to_exclude": [
    "module",
    "function",
    "builtin_function_or_method",
    "instance",
    "_Feature"
   ],
   "varInspector_section_display": "none",
   "window_display": true
  }
 },
 "nbformat": 4,
 "nbformat_minor": 4
}
